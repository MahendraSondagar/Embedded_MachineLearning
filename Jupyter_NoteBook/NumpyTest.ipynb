{
 "cells": [
  {
   "cell_type": "code",
   "execution_count": 2,
   "id": "60cc29e3-c9eb-4a82-a09d-773fd409649f",
   "metadata": {},
   "outputs": [],
   "source": [
    "import numpy as np"
   ]
  },
  {
   "cell_type": "code",
   "execution_count": 8,
   "id": "652ee62e-21fc-4c9a-81d5-3ae730755af6",
   "metadata": {},
   "outputs": [
    {
     "name": "stdout",
     "output_type": "stream",
     "text": [
      "1.22.0\n",
      "[1 2 3 4 5]\n",
      "<class 'numpy.ndarray'>\n"
     ]
    }
   ],
   "source": [
    "# Numpy getting started \n",
    "arr = np.array([1,2,3,4,5])\n",
    "print (np.__version__)\n",
    "print (arr)\n",
    "print (type(arr))"
   ]
  },
  {
   "cell_type": "code",
   "execution_count": 17,
   "id": "332ea4f3-3fd5-49f8-8657-bbc7c467c5fa",
   "metadata": {},
   "outputs": [
    {
     "name": "stdout",
     "output_type": "stream",
     "text": [
      "[42]\n",
      "1\n"
     ]
    }
   ],
   "source": [
    "# 1D array\n",
    "arr =np.array([42])\n",
    "print (arr)\n",
    "# printing the dimention \n",
    "print (arr.ndim)"
   ]
  },
  {
   "cell_type": "code",
   "execution_count": 12,
   "id": "8af60279-0f31-4091-8744-7fcef8c22f69",
   "metadata": {},
   "outputs": [
    {
     "name": "stdout",
     "output_type": "stream",
     "text": [
      "[[1 2 3]\n",
      " [1 4 5]]\n"
     ]
    }
   ],
   "source": [
    "# 2D array with Numpy\n",
    "arr = np.array([[1,2,3],[1,4,5]])\n",
    "print (arr)"
   ]
  },
  {
   "cell_type": "code",
   "execution_count": 14,
   "id": "397edb78-7082-4cf9-9160-f5731d699345",
   "metadata": {},
   "outputs": [
    {
     "name": "stdout",
     "output_type": "stream",
     "text": [
      "[[1 2 3 5]]\n"
     ]
    }
   ],
   "source": [
    "# minimum dimention \n",
    "arr = np.array([1,2,3,5], ndmin =2)\n",
    "print (arr)"
   ]
  },
  {
   "cell_type": "code",
   "execution_count": 16,
   "id": "e177daf3-90f1-4e1f-a094-491c32272e08",
   "metadata": {},
   "outputs": [
    {
     "name": "stdout",
     "output_type": "stream",
     "text": [
      "[1.+0.j 2.+0.j 3.+0.j 4.+0.j 5.+0.j]\n"
     ]
    }
   ],
   "source": [
    "# dtype (datatype ) of numpy\n",
    "arr= np.array([1,2,3,4,5], dtype = complex)\n",
    "print (arr)"
   ]
  },
  {
   "cell_type": "code",
   "execution_count": 17,
   "id": "224114a6-8597-4310-9f27-a2611c4717fb",
   "metadata": {},
   "outputs": [
    {
     "name": "stdout",
     "output_type": "stream",
     "text": [
      "[[1 2 3]\n",
      " [4 5 6]]\n",
      "(2, 3)\n"
     ]
    }
   ],
   "source": [
    "# shape of the array \n",
    "arr = np.array([[1,2,3], [4,5,6]])\n",
    "print (arr)\n",
    "print (arr.shape)   "
   ]
  },
  {
   "cell_type": "code",
   "execution_count": 4,
   "id": "1a11cca5-59df-4f30-82f1-9036761ad455",
   "metadata": {},
   "outputs": [
    {
     "name": "stdout",
     "output_type": "stream",
     "text": [
      "[[1 2 3]\n",
      " [1 5 6]]\n",
      "(2, 3)\n",
      "(3, 2)\n"
     ]
    }
   ],
   "source": [
    "# Re-Arranging the shape of the numpy array \n",
    "arr = np.array([[1,2,3], [1,5,6]])\n",
    "print (arr)\n",
    "print (arr.shape)\n",
    "arr.shape = (3,2)\n",
    "print (arr.shape)"
   ]
  },
  {
   "cell_type": "code",
   "execution_count": 8,
   "id": "edf46f5c-43e9-46d6-a9ce-6e044bb09f12",
   "metadata": {},
   "outputs": [
    {
     "name": "stdout",
     "output_type": "stream",
     "text": [
      "[[1 4 7]\n",
      " [2 5 8]]\n",
      "[[1 4]\n",
      " [7 2]\n",
      " [5 8]]\n"
     ]
    }
   ],
   "source": [
    "# Re shapping the Numpy array\n",
    "arr = np.array([[1,4,7], [2,5,8]])\n",
    "print (arr)\n",
    "arr = arr.reshape(3,2)\n",
    "print(arr)"
   ]
  },
  {
   "cell_type": "code",
   "execution_count": 14,
   "id": "da112d1f-e8ab-4635-9b69-da286f4882b7",
   "metadata": {},
   "outputs": [
    {
     "name": "stdout",
     "output_type": "stream",
     "text": [
      "[[[1 2 3]\n",
      "  [4 5 6]]\n",
      "\n",
      " [[4 5 6]\n",
      "  [7 4 8]]]\n",
      "(2, 2, 3)\n",
      "3\n"
     ]
    }
   ],
   "source": [
    "# 3D array  (It's simply combination of the two dimention array )\n",
    "arr =np.array([[[1,2,3], [4,5,6]], [[4,5,6], [7,4,8]]])\n",
    "print (arr)\n",
    "print (arr.shape)\n",
    "print(arr.ndim)"
   ]
  },
  {
   "cell_type": "code",
   "execution_count": 19,
   "id": "b75e131b-0ef2-4268-a74a-b69980fc3665",
   "metadata": {},
   "outputs": [],
   "source": [
    "# Array Indexing and operation "
   ]
  },
  {
   "cell_type": "code",
   "execution_count": 21,
   "id": "e9c9b33f-a20b-43de-a207-33275e1a488a",
   "metadata": {},
   "outputs": [
    {
     "name": "stdout",
     "output_type": "stream",
     "text": [
      "1\n",
      "8\n",
      "[1 2 3]\n"
     ]
    }
   ],
   "source": [
    "# 1. Array indexing\n",
    "arr = np.array([1,2,3,4,5,7,10])\n",
    "print (arr[0])\n",
    "print (arr[2]+ arr[4])\n",
    "print (arr[: 3])"
   ]
  },
  {
   "cell_type": "code",
   "execution_count": 25,
   "id": "5be576f6-f258-4829-82d0-954ec666264d",
   "metadata": {},
   "outputs": [
    {
     "name": "stdout",
     "output_type": "stream",
     "text": [
      "1st Raw 3rd Elemnts is:  2\n",
      "2nd Raw, 2nd Element is:  5\n"
     ]
    }
   ],
   "source": [
    "# 2.Accesing the 2D array elements \n",
    "arr = np.array([[1,4,7,2], [4,2,5,3]])\n",
    "print (\"1st Raw 3rd Elemnts is: \", arr[0,3])\n",
    "print (\"2nd Raw, 2nd Element is: \", arr[1,2])"
   ]
  },
  {
   "cell_type": "code",
   "execution_count": 33,
   "id": "a3bbaa68-3edf-4588-978d-89a43a728286",
   "metadata": {},
   "outputs": [
    {
     "name": "stdout",
     "output_type": "stream",
     "text": [
      "Array items:  [[[1 2 4]\n",
      "  [4 1 7]]\n",
      "\n",
      " [[7 4 8]\n",
      "  [5 8 6]]]\n",
      "Array type:  3\n",
      "2nd block, 1st raw 2nd Elemets:  6\n"
     ]
    }
   ],
   "source": [
    "# 3. Accessing the Elements from the 3D array \n",
    "arr = np.array([ [[1,2,4], [4,1,7]], [[7,4,8], [5,8,6]]])\n",
    "print (\"Array items: \", arr)\n",
    "print (\"Array type: \", arr.ndim)\n",
    "print (\"2nd block, 1st raw 2nd Elemets: \",  (arr[1, 1, 2]))"
   ]
  },
  {
   "cell_type": "code",
   "execution_count": 37,
   "id": "7297345d-5f5c-45e9-9e7d-8f72e3525ec2",
   "metadata": {},
   "outputs": [
    {
     "name": "stdout",
     "output_type": "stream",
     "text": [
      "[[1 2 3 5]\n",
      " [4 7 8 2]]\n",
      "2\n",
      "2nd Raw, last elemnt:  2\n"
     ]
    }
   ],
   "source": [
    "# 4. printing the last element\n",
    "arr =np.array([[1,2,3, 5], [4,7,8,2]])\n",
    "print (arr)\n",
    "print (arr.ndim)\n",
    "print (\"2nd Raw, last elemnt: \", arr[1,-1])"
   ]
  },
  {
   "cell_type": "code",
   "execution_count": 38,
   "id": "e208d527-6fba-4466-a2d4-004ed8555a2a",
   "metadata": {},
   "outputs": [],
   "source": [
    "# Array slicing "
   ]
  },
  {
   "cell_type": "code",
   "execution_count": 42,
   "id": "8c14dd67-1215-4196-80b7-348b6eaa2820",
   "metadata": {},
   "outputs": [
    {
     "name": "stdout",
     "output_type": "stream",
     "text": [
      "[1 2 3 4 5 6 7 8 9]\n",
      "[2 3 4 5]\n",
      "[1 2 3 4 5]\n",
      "[4 5 6 7 8 9]\n",
      "[2 3 4 5 6 7 8]\n"
     ]
    }
   ],
   "source": [
    "# 1. Array slicing basic \n",
    "arr = np.array([1,2,3,4,5,6,7,8,9])\n",
    "print (arr)\n",
    "print (arr[1:5])\n",
    "print (arr[:5])\n",
    "print (arr[3:])\n",
    "print (arr[1:-1])"
   ]
  },
  {
   "cell_type": "code",
   "execution_count": 54,
   "id": "554c8935-c700-4b9e-8a67-c179f8800196",
   "metadata": {},
   "outputs": [
    {
     "name": "stdout",
     "output_type": "stream",
     "text": [
      "[[1 2 3 4 5 6]\n",
      " [1 4 7 2 8 6]]\n",
      "[[3 4]\n",
      " [7 2]]\n"
     ]
    }
   ],
   "source": [
    "# 2. Array index slicing from 2D array\n",
    "arr = np.array([[1,2,3,4,5,6], [1,4,7,2,8,6]])\n",
    "print (arr)\n",
    "print (arr [0:3, 2:4])"
   ]
  },
  {
   "cell_type": "code",
   "execution_count": 58,
   "id": "3293062d-57b4-4d6b-af7f-e6b579844da0",
   "metadata": {},
   "outputs": [
    {
     "name": "stdout",
     "output_type": "stream",
     "text": [
      "[1 2 3 4 5 6 7 8 9]\n",
      "[1 3 5 7 9]\n"
     ]
    }
   ],
   "source": [
    "# 3. printing every other elements from the array \n",
    "arr = np.array([1,2,3,4,5,6,7,8,9])\n",
    "print (arr)\n",
    "print (arr[::2])"
   ]
  },
  {
   "cell_type": "code",
   "execution_count": 62,
   "id": "5fbfd17c-d8d5-477a-b298-1e65e7317182",
   "metadata": {},
   "outputs": [
    {
     "name": "stdout",
     "output_type": "stream",
     "text": [
      "[[1 2 3 4 8]\n",
      " [1 4 5 7 5]]\n",
      "[4 5]\n"
     ]
    }
   ],
   "source": [
    "# 4. 2D arary slicing \n",
    "arr =np.array([[1,2,3,4, 8], [1,4,5,7, 5]])\n",
    "print (arr)\n",
    "print (arr[1, 1:3])"
   ]
  },
  {
   "cell_type": "code",
   "execution_count": 68,
   "id": "00c3682c-1a59-47a6-979b-98c2131102ec",
   "metadata": {},
   "outputs": [
    {
     "name": "stdout",
     "output_type": "stream",
     "text": [
      "[[1 2 3 4 5]\n",
      " [1 4 2 5 6]]\n",
      "[4 2]\n"
     ]
    }
   ],
   "source": [
    "# 5. 2D array slicing \n",
    "arr = np.array([[1,2,3,4,5], [1,4,2,5,6]])\n",
    "print (arr)\n",
    "print (arr[1, 1:3])"
   ]
  },
  {
   "cell_type": "code",
   "execution_count": 69,
   "id": "4e38381e-96b7-491a-80ab-cd4b5146139a",
   "metadata": {},
   "outputs": [],
   "source": [
    "# Numpy DataTypes \n",
    "#strings - used to represent text data, the text is given under quote marks. e.g. \"ABCD\"\n",
    "#integer - used to represent integer numbers. e.g. -1, -2, -3\n",
    "#float - used to represent real numbers. e.g. 1.2, 42.42\n",
    "#boolean - used to represent True or False.\n",
    "#complex - used to represent complex numbers. e.g. 1.0 + 2.0j, 1.5 + 2.5j"
   ]
  },
  {
   "cell_type": "code",
   "execution_count": 70,
   "id": "30f58679-749e-4ca5-831a-9e862979209d",
   "metadata": {},
   "outputs": [
    {
     "name": "stdout",
     "output_type": "stream",
     "text": [
      "int64\n"
     ]
    }
   ],
   "source": [
    "# 1. Numpy datatype display\n",
    "arr= np.array([1,2,3,4,5,6])\n",
    "print (arr.dtype)"
   ]
  },
  {
   "cell_type": "code",
   "execution_count": 71,
   "id": "16bd7eae-898d-4155-8578-446116fbc772",
   "metadata": {},
   "outputs": [
    {
     "name": "stdout",
     "output_type": "stream",
     "text": [
      "<U6\n"
     ]
    }
   ],
   "source": [
    "#2. Numpy Datatype display\n",
    "arr = np.array([\"Apple\", \"Orange\", \"Cherry\", \"Lichi\"])\n",
    "print (arr.dtype)"
   ]
  },
  {
   "cell_type": "code",
   "execution_count": 74,
   "id": "dd02a8e9-a510-4f48-b651-00b4f7b87413",
   "metadata": {},
   "outputs": [
    {
     "name": "stdout",
     "output_type": "stream",
     "text": [
      "[b'1' b'2' b'3' b'4']\n"
     ]
    }
   ],
   "source": [
    "# 3. Numpy datatype conversion\n",
    "arr = np.array([1,2,3,4], dtype = \"S\")\n",
    "print (arr)"
   ]
  },
  {
   "cell_type": "code",
   "execution_count": 75,
   "id": "ac2fe834-dc89-4b52-b474-60bb137718f5",
   "metadata": {},
   "outputs": [
    {
     "name": "stdout",
     "output_type": "stream",
     "text": [
      "[1 2 3]\n"
     ]
    }
   ],
   "source": [
    "# 4. Numpy Datatype conversion\n",
    "arr= np.array(['1', '2', '3'], dtype ='i')\n",
    "print (arr)"
   ]
  },
  {
   "cell_type": "code",
   "execution_count": 78,
   "id": "3a176b6f-431e-4866-9bf5-9208079c9cc9",
   "metadata": {},
   "outputs": [
    {
     "name": "stdout",
     "output_type": "stream",
     "text": [
      "int32\n"
     ]
    }
   ],
   "source": [
    "# 5. astype() methord for the Datatype conversion\n",
    "arr = np.array([1.1,1.2,1.4,1.0])\n",
    "int_type = arr.astype('i')   # float to int conversion \n",
    "print (int_type.dtype)"
   ]
  },
  {
   "cell_type": "code",
   "execution_count": 80,
   "id": "431a2b86-ccb7-4915-9eb5-9dd4092884c7",
   "metadata": {},
   "outputs": [
    {
     "name": "stdout",
     "output_type": "stream",
     "text": [
      "[ True  True False  True False  True]\n",
      "bool\n"
     ]
    }
   ],
   "source": [
    "# 6. astype() int ot bool conversion \n",
    "arr= np.array([1,2,0,1,0,3])\n",
    "arr_bool = arr.astype('bool')\n",
    "print (arr_bool)\n",
    "print (arr_bool.dtype)"
   ]
  },
  {
   "cell_type": "code",
   "execution_count": 81,
   "id": "6f474b90-bd7e-4ebb-9d40-2f5f94e7b1c5",
   "metadata": {},
   "outputs": [],
   "source": [
    "#NumPy Array Copy vs View\n",
    "#The main difference between a copy and a view of an array is that the copy is a new array, and the view is just a view of the original array.\n",
    "#The copy owns the data and any changes made to the copy will not affect original array, and any changes made to the original array will not affect the copy.\n",
    "#The view does not own the data and any changes made to the view will affect the original array, and any changes made to the original array will affect the view.\n"
   ]
  },
  {
   "cell_type": "code",
   "execution_count": 84,
   "id": "4858e5ee-62d7-4024-ae6c-f77e4ed98efd",
   "metadata": {},
   "outputs": [
    {
     "name": "stdout",
     "output_type": "stream",
     "text": [
      "[2 2 3 4 5 6]\n",
      "[1 2 3 4 5 6]\n"
     ]
    }
   ],
   "source": [
    "# 1. Copy the array \n",
    "arr = np.array([1,2,3,4,5,6])\n",
    "dummy = arr.copy()\n",
    "arr[0]= 2\n",
    "print (arr)\n",
    "print (dummy)"
   ]
  },
  {
   "cell_type": "code",
   "execution_count": 87,
   "id": "96bf8226-b8cd-4175-9530-740a5598884a",
   "metadata": {},
   "outputs": [
    {
     "name": "stdout",
     "output_type": "stream",
     "text": [
      "[1 2 3 4 5 6]\n",
      "[1 2 0 4 5 6]\n",
      "[1 2 0 4 5 6]\n"
     ]
    }
   ],
   "source": [
    "# 2. view the Numpy array \n",
    "arr= np.array([1,2,3,4,5,6])\n",
    "print (arr)\n",
    "dummy = arr.view()\n",
    "arr[2] =0\n",
    "print (arr)\n",
    "print (dummy)"
   ]
  },
  {
   "cell_type": "code",
   "execution_count": 89,
   "id": "41cd6113-cbb9-4672-a51e-835812dcaaaa",
   "metadata": {},
   "outputs": [
    {
     "name": "stdout",
     "output_type": "stream",
     "text": [
      "None\n",
      "[1 2 3 4 5 6]\n"
     ]
    }
   ],
   "source": [
    "# 3. base attributes to check wheather the array is owned or not \n",
    "arr =np.array([1,2,3,4,5,6])\n",
    "x= arr.copy()\n",
    "y= arr.view()\n",
    "print (x.base)\n",
    "print (y.base)"
   ]
  },
  {
   "cell_type": "code",
   "execution_count": 90,
   "id": "06b2b502-f37d-4c0a-9f5c-bfcf5a5abfe8",
   "metadata": {},
   "outputs": [],
   "source": [
    "# Numpy array Share and reshape"
   ]
  },
  {
   "cell_type": "code",
   "execution_count": 91,
   "id": "85255861-cf24-45a7-9f9a-e86cd4471273",
   "metadata": {},
   "outputs": [
    {
     "name": "stdout",
     "output_type": "stream",
     "text": [
      "(2, 3)\n"
     ]
    }
   ],
   "source": [
    "# 1. Numpy array shape \n",
    "arr= np.array([[1,2,3], [1,4,7]])\n",
    "print (arr.shape)"
   ]
  },
  {
   "cell_type": "code",
   "execution_count": 93,
   "id": "850e8d04-56b2-4796-9aa2-63d5e2e8b319",
   "metadata": {},
   "outputs": [
    {
     "name": "stdout",
     "output_type": "stream",
     "text": [
      "[1 2 3 4 5 6]\n",
      "[[1 2 3]\n",
      " [4 5 6]]\n"
     ]
    }
   ],
   "source": [
    "# 2. Re-shape from 1D to 2D\n",
    "arr = np.array([1,2,3,4,5,6])\n",
    "print (arr)\n",
    "arr_reshp = arr.reshape(2,3)\n",
    "print (arr_reshp)"
   ]
  },
  {
   "cell_type": "code",
   "execution_count": 95,
   "id": "54ac8dad-58bc-4425-8261-2d48b1d73f9a",
   "metadata": {},
   "outputs": [
    {
     "name": "stdout",
     "output_type": "stream",
     "text": [
      "[[[ 1  2  3]\n",
      "  [ 4  5  6]]\n",
      "\n",
      " [[ 7  8  9]\n",
      "  [10 11 12]]]\n"
     ]
    }
   ],
   "source": [
    "# 3. Array Re-Shape from 1D to 3D \n",
    "arr = np.array([1,2,3,4,5,6,7,8,9,10,11,12])\n",
    "arr_reshp = arr.reshape(2, 2, 3)\n",
    "print (arr_reshp)"
   ]
  },
  {
   "cell_type": "code",
   "execution_count": 96,
   "id": "178662ab-555f-48e9-97d9-e918804af526",
   "metadata": {},
   "outputs": [
    {
     "name": "stdout",
     "output_type": "stream",
     "text": [
      "[[1 2 3 4]\n",
      " [1 4 7 8]]\n",
      "[1 2 3 4 1 4 7 8]\n"
     ]
    }
   ],
   "source": [
    "# 4. 2D array to 1D arary conversion \n",
    "arr = np.array([[1,2,3,4], [1,4,7,8]])\n",
    "print (arr)\n",
    "arr_reshp = arr.reshape(-1)\n",
    "print (arr_reshp)"
   ]
  },
  {
   "cell_type": "code",
   "execution_count": 97,
   "id": "135b9284-4a41-440a-9a19-961e2bc556c5",
   "metadata": {},
   "outputs": [],
   "source": [
    "# Numpy array itteration "
   ]
  },
  {
   "cell_type": "code",
   "execution_count": 99,
   "id": "2e21b5e4-857e-406b-8d60-02232cfe8e86",
   "metadata": {},
   "outputs": [
    {
     "name": "stdout",
     "output_type": "stream",
     "text": [
      "1\n",
      "2\n",
      "3\n",
      "4\n",
      "5\n",
      "6\n"
     ]
    }
   ],
   "source": [
    "# 1. Numpy array itteration using for loop\n",
    "arr = np.array([1,2,3,4,5,6])\n",
    "for i in arr:\n",
    "    print (i)"
   ]
  },
  {
   "cell_type": "code",
   "execution_count": 100,
   "id": "cfdfa490-c22d-427b-add4-6ebdf2bf0d02",
   "metadata": {},
   "outputs": [
    {
     "name": "stdout",
     "output_type": "stream",
     "text": [
      "[[1 2 3]\n",
      " [1 4 7]]\n",
      "[[1 2 3]\n",
      " [1 4 7]]\n"
     ]
    }
   ],
   "source": [
    "# 2.2D array itteration, element wise  \n",
    "arr = np.array([[1,2,3], [1,4,7]])\n",
    "for i in arr:\n",
    "    print (arr)"
   ]
  },
  {
   "cell_type": "code",
   "execution_count": 101,
   "id": "104666b4-bc38-4111-8e92-85b3de361b59",
   "metadata": {},
   "outputs": [
    {
     "name": "stdout",
     "output_type": "stream",
     "text": [
      "[[[1 2 3]\n",
      "  [4 5 6]]\n",
      "\n",
      " [[7 4 1]\n",
      "  [8 5 2]]]\n",
      "[[[1 2 3]\n",
      "  [4 5 6]]\n",
      "\n",
      " [[7 4 1]\n",
      "  [8 5 2]]]\n"
     ]
    }
   ],
   "source": [
    "# 3. 3D array ittegration via individual element wise \n",
    "arr = np.array([[[1,2,3], [4,5,6]], [[7,4,1], [8,5,2]]])\n",
    "for i in arr:\n",
    "    print (arr)"
   ]
  },
  {
   "cell_type": "code",
   "execution_count": 104,
   "id": "0318e3a9-85c2-4ac3-a305-e29774e0baee",
   "metadata": {},
   "outputs": [
    {
     "name": "stdout",
     "output_type": "stream",
     "text": [
      "1\n",
      "2\n",
      "3\n",
      "4\n",
      "5\n",
      "6\n",
      "7\n",
      "4\n",
      "1\n",
      "8\n",
      "5\n",
      "2\n"
     ]
    }
   ],
   "source": [
    "# 3D array ittergation\n",
    "arr = np.array([[[1,2,3], [4,5,6]], [[7,4,1], [8,5,2]]])\n",
    "for i in arr:\n",
    "    for j in i:\n",
    "        for k in j:\n",
    "            print (k)"
   ]
  },
  {
   "cell_type": "code",
   "execution_count": 105,
   "id": "f2f5005a-2b94-4d5c-b7a4-d4ee9b31f9c1",
   "metadata": {},
   "outputs": [],
   "source": [
    "# array joining or Concating "
   ]
  },
  {
   "cell_type": "code",
   "execution_count": 109,
   "id": "a66d50dc-8d95-4a00-8867-0c34cf9f4fd2",
   "metadata": {},
   "outputs": [
    {
     "name": "stdout",
     "output_type": "stream",
     "text": [
      "[1 2 3 4 1 4 7 8]\n"
     ]
    }
   ],
   "source": [
    "# 1. Two array concating \n",
    "x=np.array([1,2,3,4])\n",
    "y=np.array([1,4,7,8])\n",
    "z = np.concatenate((x,y))\n",
    "print (z)"
   ]
  },
  {
   "cell_type": "code",
   "execution_count": 8,
   "id": "d7a9e8ec-ab78-4163-9f1f-bd4065653c3a",
   "metadata": {},
   "outputs": [
    {
     "name": "stdout",
     "output_type": "stream",
     "text": [
      "[[1 2 3 7 4 1]\n",
      " [4 5 6 8 5 2]]\n"
     ]
    }
   ],
   "source": [
    "# 2. joining the 2D array at one Axies \n",
    "arr1 = np.array([[1,2,3], [4,5,6]])\n",
    "arr2 = np.array([[7,4,1],[8,5,2]])\n",
    "result = np.concatenate((arr1, arr2), axis=1)\n",
    "print (result)"
   ]
  },
  {
   "cell_type": "code",
   "execution_count": 9,
   "id": "417c2c5c",
   "metadata": {},
   "outputs": [],
   "source": [
    "# spliting the array "
   ]
  },
  {
   "cell_type": "code",
   "execution_count": 11,
   "id": "761b77c6",
   "metadata": {},
   "outputs": [
    {
     "name": "stdout",
     "output_type": "stream",
     "text": [
      "[array([1, 2]), array([3, 4]), array([5, 6])]\n"
     ]
    }
   ],
   "source": [
    "1. # Splitting the 1D array in to the 3 sub array \n",
    "arr = np.array([1,2,3,4,5,6])\n",
    "arr = np.array_split(arr, 3)\n",
    "print (arr)"
   ]
  },
  {
   "cell_type": "code",
   "execution_count": 12,
   "id": "b563fb1b",
   "metadata": {},
   "outputs": [
    {
     "name": "stdout",
     "output_type": "stream",
     "text": [
      "[array([1, 2, 3]), array([4, 5, 6]), array([7, 8, 9])]\n"
     ]
    }
   ],
   "source": [
    "#2 Spliting the 1D array in to the group of 3\n",
    "arr = np.array([1,2,3,4,5,6,7,8,9])\n",
    "arr = np.array_split(arr, 3)\n",
    "print (arr)"
   ]
  },
  {
   "cell_type": "code",
   "execution_count": 14,
   "id": "41a0a1d5",
   "metadata": {},
   "outputs": [],
   "source": [
    "# Array indexing serching using where "
   ]
  },
  {
   "cell_type": "code",
   "execution_count": 16,
   "id": "32cf4abd",
   "metadata": {},
   "outputs": [
    {
     "name": "stdout",
     "output_type": "stream",
     "text": [
      "(array([0, 3, 5, 7]),)\n"
     ]
    }
   ],
   "source": [
    "# 1. array serching using where, it will return the list of the searching result \n",
    "arr = np.array([1,4,7,1,2,1,6,1,0])\n",
    "x= np.where(arr == 1)\n",
    "print (x)"
   ]
  },
  {
   "cell_type": "code",
   "execution_count": 19,
   "id": "84544fe1",
   "metadata": {},
   "outputs": [
    {
     "name": "stdout",
     "output_type": "stream",
     "text": [
      "(array([1, 3, 5, 7]),)\n"
     ]
    }
   ],
   "source": [
    "#2. Finding the array elements at even position\n",
    "arr= np.array([1,2,3,4,5,6,7,8])\n",
    "x= np.where(arr%2 ==0)\n",
    "print (x)"
   ]
  },
  {
   "cell_type": "code",
   "execution_count": 21,
   "id": "03039a71",
   "metadata": {},
   "outputs": [
    {
     "name": "stdout",
     "output_type": "stream",
     "text": [
      "(array([0, 2, 4, 6]),)\n"
     ]
    }
   ],
   "source": [
    "# 3.Finding the array elements at odd positions \n",
    "arr= np.array([1,2,3,4,5,6,7,8])\n",
    "x= np.where(arr%2 ==1)\n",
    "print (x)"
   ]
  },
  {
   "cell_type": "code",
   "execution_count": 23,
   "id": "529be2ba",
   "metadata": {},
   "outputs": [],
   "source": [
    "# Sorting the array "
   ]
  },
  {
   "cell_type": "code",
   "execution_count": 24,
   "id": "f208ea63",
   "metadata": {},
   "outputs": [
    {
     "name": "stdout",
     "output_type": "stream",
     "text": [
      "[ 1  2  4  5 10 20 65 87]\n"
     ]
    }
   ],
   "source": [
    "# 1. Array sorting \n",
    "arr = np.array([1,4,5,10,20,65,87,2])\n",
    "x = np.sort(arr)\n",
    "print (x)"
   ]
  },
  {
   "cell_type": "code",
   "execution_count": 30,
   "id": "d7d6ab80",
   "metadata": {},
   "outputs": [
    {
     "name": "stdout",
     "output_type": "stream",
     "text": [
      "['Apple' 'Banana' 'Orange']\n"
     ]
    }
   ],
   "source": [
    "# 2. array sorting \n",
    "arr = np.array([\"Apple\", \"Orange\", \"Banana\"])\n",
    "x= np.sort(arr)\n",
    "print (x)"
   ]
  },
  {
   "cell_type": "code",
   "execution_count": 33,
   "id": "16a4ba39",
   "metadata": {},
   "outputs": [
    {
     "name": "stdout",
     "output_type": "stream",
     "text": [
      "[False  True  True]\n"
     ]
    }
   ],
   "source": [
    "# 3. array sorting\n",
    "arr = np.array([True, False, True])\n",
    "x= np.sort(arr)\n",
    "print (x)"
   ]
  },
  {
   "cell_type": "code",
   "execution_count": 36,
   "id": "f132a3fe",
   "metadata": {},
   "outputs": [],
   "source": [
    "# Array filtering \n",
    "# Getting the filterd values from the array and creating the new array based on filterd values called array filtering "
   ]
  },
  {
   "cell_type": "code",
   "execution_count": 40,
   "id": "0dc38048",
   "metadata": {},
   "outputs": [
    {
     "name": "stdout",
     "output_type": "stream",
     "text": [
      "[1 4 7]\n"
     ]
    }
   ],
   "source": [
    "# 1. array filtering \n",
    "arr= np.array([1,4,7,8,7])\n",
    "x = [True, True, False, False, True]\n",
    "print (arr[x])"
   ]
  },
  {
   "cell_type": "code",
   "execution_count": 48,
   "id": "9967b98f",
   "metadata": {},
   "outputs": [
    {
     "name": "stdout",
     "output_type": "stream",
     "text": [
      "[False, False, True, False, True, True, True, False, False, False]\n",
      "[41 41 78 12]\n"
     ]
    }
   ],
   "source": [
    "# 2. Creating the filterd array whose value is higher than 10\n",
    "arr= np.array([1,2,41,5,41,78,12,0,6,5])\n",
    "filter_arr =[]\n",
    "for i in arr:\n",
    "    if(i > 10):\n",
    "        filter_arr.append(True)\n",
    "    else:\n",
    "        filter_arr.append(False)\n",
    "    \n",
    "print (filter_arr)\n",
    "print (arr[filter_arr])\n",
    "        "
   ]
  },
  {
   "cell_type": "code",
   "execution_count": 52,
   "id": "b33a6a81",
   "metadata": {},
   "outputs": [
    {
     "name": "stdout",
     "output_type": "stream",
     "text": [
      "[False, True, False, True, False, True, True]\n",
      "[4 8 2 2]\n"
     ]
    }
   ],
   "source": [
    "# 2. Filtering the Even numbers from the list \n",
    "arr = np.array([1,4,7,8,5,2,2])\n",
    "filter_arr=[]\n",
    "for i in arr:\n",
    "    if(i%2 ==0):\n",
    "        filter_arr.append(True)\n",
    "    else:\n",
    "        filter_arr.append(False)\n",
    "        \n",
    "print (filter_arr)\n",
    "print (arr[filter_arr])"
   ]
  },
  {
   "cell_type": "code",
   "execution_count": null,
   "id": "b28ae185",
   "metadata": {},
   "outputs": [],
   "source": []
  }
 ],
 "metadata": {
  "kernelspec": {
   "display_name": "Python 3 (ipykernel)",
   "language": "python",
   "name": "python3"
  },
  "language_info": {
   "codemirror_mode": {
    "name": "ipython",
    "version": 3
   },
   "file_extension": ".py",
   "mimetype": "text/x-python",
   "name": "python",
   "nbconvert_exporter": "python",
   "pygments_lexer": "ipython3",
   "version": "3.9.5"
  }
 },
 "nbformat": 4,
 "nbformat_minor": 5
}
